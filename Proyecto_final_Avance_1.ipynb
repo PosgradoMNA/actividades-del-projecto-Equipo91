{
  "nbformat": 4,
  "nbformat_minor": 0,
  "metadata": {
    "colab": {
      "provenance": [],
      "authorship_tag": "ABX9TyNBO4sYnHBZIT3z8pIuZyWa",
      "include_colab_link": true
    },
    "kernelspec": {
      "name": "python3",
      "display_name": "Python 3"
    },
    "language_info": {
      "name": "python"
    }
  },
  "cells": [
    {
      "cell_type": "markdown",
      "metadata": {
        "id": "view-in-github",
        "colab_type": "text"
      },
      "source": [
        "<a href=\"https://colab.research.google.com/github/PosgradoMNA/actividades-del-projecto-Equipo91/blob/main/Proyecto_final_Avance_1.ipynb\" target=\"_parent\"><img src=\"https://colab.research.google.com/assets/colab-badge.svg\" alt=\"Open In Colab\"/></a>"
      ]
    },
    {
      "cell_type": "markdown",
      "source": [
        "Estudio de porcentaje de desempleo por pais en los ultimos 31 años.\n",
        "\n"
      ],
      "metadata": {
        "id": "rqgLoiihrMVk"
      }
    },
    {
      "cell_type": "markdown",
      "source": [
        "La organización worldbank genero el dataset."
      ],
      "metadata": {
        "id": "jXtizW_7rdWA"
      }
    },
    {
      "cell_type": "markdown",
      "source": [
        "https://www.kaggle.com/datasets/pantanjali/unemployment-dataset/metadata"
      ],
      "metadata": {
        "id": "doXuLwwFuaQ9"
      }
    },
    {
      "cell_type": "markdown",
      "source": [
        "Continue el porcentaje de desempleo por país y año respectivo, comenzando en 1991 y terminando en 2021. Con un total de 235 países, incluyendo el codigo correspondiente."
      ],
      "metadata": {
        "id": "t8_wW4MaubUF"
      }
    },
    {
      "cell_type": "markdown",
      "source": [
        "1. ¿Cuales son los países con el mayor indice de desempleo en los ultimos 31 años?\n",
        "2. ¿Cuales son los países con el menor indice de desempleo en los ultimos 31 años?\n",
        "3. ¿Cuales son los países con un alto nivel de variación en el indice a lo largo de los años?\n",
        "4. ¿Cuales son los países con mayor estabilidad en el indice a lo largo de los años?\n",
        "5. ¿Cual es el país con el menor indice de desempleo en los ultimos 5 años?\n",
        "6. ¿Cual es el país con el mayor indice de desempleo en los ultimos 5 años?\n",
        "7. ¿Cual es el país con el aumento más drastico en los ultimos 31 años?\n",
        "8. ¿Cual es el país con la disminución más drastica en los ultimos 31 años?"
      ],
      "metadata": {
        "id": "iDKA_Fn7u_Oa"
      }
    },
    {
      "cell_type": "markdown",
      "source": [
        "La Organización de las Nacionas Unidas sería la organización interasada en las respuestas del estudio con base en el dataset."
      ],
      "metadata": {
        "id": "utcUGcnqx1e7"
      }
    }
  ]
}